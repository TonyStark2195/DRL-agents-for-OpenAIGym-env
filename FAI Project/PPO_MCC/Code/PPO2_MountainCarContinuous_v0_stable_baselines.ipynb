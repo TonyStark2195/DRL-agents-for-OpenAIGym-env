{
 "cells": [
  {
   "cell_type": "markdown",
   "metadata": {
    "colab_type": "text",
    "id": "FtY8FhliLsGm"
   },
   "source": [
    "## Dependencis\n",
    "import dependencis required to run & train our model + record a video"
   ]
  },
  {
   "cell_type": "code",
   "execution_count": 1,
   "metadata": {
    "colab": {
     "base_uri": "https://localhost:8080/",
     "height": 153
    },
    "colab_type": "code",
    "id": "2pToLfvOzCKQ",
    "outputId": "1570d999-ba6b-4fee-9c71-cd5c46200957"
   },
   "outputs": [
    {
     "name": "stderr",
     "output_type": "stream",
     "text": [
      "/Users/Aswin_Shriram_T/opt/anaconda3/lib/python3.7/site-packages/tensorflow/python/framework/dtypes.py:516: FutureWarning: Passing (type, 1) or '1type' as a synonym of type is deprecated; in a future version of numpy, it will be understood as (type, (1,)) / '(1,)type'.\n",
      "  _np_qint8 = np.dtype([(\"qint8\", np.int8, 1)])\n",
      "/Users/Aswin_Shriram_T/opt/anaconda3/lib/python3.7/site-packages/tensorflow/python/framework/dtypes.py:517: FutureWarning: Passing (type, 1) or '1type' as a synonym of type is deprecated; in a future version of numpy, it will be understood as (type, (1,)) / '(1,)type'.\n",
      "  _np_quint8 = np.dtype([(\"quint8\", np.uint8, 1)])\n",
      "/Users/Aswin_Shriram_T/opt/anaconda3/lib/python3.7/site-packages/tensorflow/python/framework/dtypes.py:518: FutureWarning: Passing (type, 1) or '1type' as a synonym of type is deprecated; in a future version of numpy, it will be understood as (type, (1,)) / '(1,)type'.\n",
      "  _np_qint16 = np.dtype([(\"qint16\", np.int16, 1)])\n",
      "/Users/Aswin_Shriram_T/opt/anaconda3/lib/python3.7/site-packages/tensorflow/python/framework/dtypes.py:519: FutureWarning: Passing (type, 1) or '1type' as a synonym of type is deprecated; in a future version of numpy, it will be understood as (type, (1,)) / '(1,)type'.\n",
      "  _np_quint16 = np.dtype([(\"quint16\", np.uint16, 1)])\n",
      "/Users/Aswin_Shriram_T/opt/anaconda3/lib/python3.7/site-packages/tensorflow/python/framework/dtypes.py:520: FutureWarning: Passing (type, 1) or '1type' as a synonym of type is deprecated; in a future version of numpy, it will be understood as (type, (1,)) / '(1,)type'.\n",
      "  _np_qint32 = np.dtype([(\"qint32\", np.int32, 1)])\n",
      "/Users/Aswin_Shriram_T/opt/anaconda3/lib/python3.7/site-packages/tensorflow/python/framework/dtypes.py:525: FutureWarning: Passing (type, 1) or '1type' as a synonym of type is deprecated; in a future version of numpy, it will be understood as (type, (1,)) / '(1,)type'.\n",
      "  np_resource = np.dtype([(\"resource\", np.ubyte, 1)])\n"
     ]
    }
   ],
   "source": [
    "import gym\n",
    "import imageio\n",
    "import numpy as np\n",
    "import base64\n",
    "import IPython\n",
    "import PIL.Image\n",
    "#import pyvirtualdisplay\n",
    "\n",
    "# Video stuff \n",
    "from pathlib import Path\n",
    "from IPython import display as ipythondisplay\n",
    "\n",
    "from stable_baselines.common.policies import MlpPolicy\n",
    "from stable_baselines.common.vec_env import VecVideoRecorder, SubprocVecEnv, DummyVecEnv\n",
    "from stable_baselines import PPO2"
   ]
  },
  {
   "cell_type": "code",
   "execution_count": 2,
   "metadata": {
    "colab": {},
    "colab_type": "code",
    "id": "V5uQsuWv6UnH"
   },
   "outputs": [],
   "source": [
    "import os\n",
    "from stable_baselines.bench import Monitor"
   ]
  },
  {
   "cell_type": "code",
   "execution_count": 3,
   "metadata": {
    "colab": {},
    "colab_type": "code",
    "id": "t7JHe8WErFm-"
   },
   "outputs": [],
   "source": [
    "path = os.path.join( os.getcwd(), '..' )\n",
    "model_save_path = path + '/Model Archive/'\n",
    "results_save_path = path + '/Results/'"
   ]
  },
  {
   "cell_type": "code",
   "execution_count": 4,
   "metadata": {},
   "outputs": [
    {
     "name": "stdout",
     "output_type": "stream",
     "text": [
      "/Users/Aswin_Shriram_T/Documents/Northeastern University/Semester 1/Foundations of AI CS5100/Project/Project_Files/FAI Project/PPO_MCC/Code/..\n",
      "/Users/Aswin_Shriram_T/Documents/Northeastern University/Semester 1/Foundations of AI CS5100/Project/Project_Files/FAI Project/PPO_MCC/Code/../Model Archive/\n",
      "/Users/Aswin_Shriram_T/Documents/Northeastern University/Semester 1/Foundations of AI CS5100/Project/Project_Files/FAI Project/PPO_MCC/Code/../Results/\n"
     ]
    }
   ],
   "source": [
    "print(path)\n",
    "print(model_save_path)\n",
    "print(results_save_path)"
   ]
  },
  {
   "cell_type": "markdown",
   "metadata": {
    "colab_type": "text",
    "id": "WlaTq_UvGKo-"
   },
   "source": [
    "## Define variables & functions\n",
    "Here we define our variables and also create a couple of functions "
   ]
  },
  {
   "cell_type": "code",
   "execution_count": null,
   "metadata": {
    "colab": {
     "base_uri": "https://localhost:8080/",
     "height": 71
    },
    "colab_type": "code",
    "id": "tKA52SBe6JdJ",
    "outputId": "bca58a38-be9b-4c10-f3e4-d158b65cfd59"
   },
   "outputs": [],
   "source": [
    "# set enviorment variables that we will use in our code\n",
    "env_id = 'MountainCarContinuous-v0'\n",
    "video_folder = results_save_path + '/videos'\n",
    "video_length = 100\n",
    "\n",
    "log_dir = results_save_path + \"tmp/\"\n",
    "os.makedirs(log_dir, exist_ok=True)\n",
    "\n",
    "env = gym.make(env_id)\n",
    "# set our inital enviorment\n",
    "env = Monitor(env, log_dir, allow_early_resets=True)\n",
    "env = DummyVecEnv([lambda: env])\n",
    "obs = env.reset()"
   ]
  },
  {
   "cell_type": "code",
   "execution_count": null,
   "metadata": {
    "colab": {},
    "colab_type": "code",
    "id": "CBVNrcLawXeB"
   },
   "outputs": [],
   "source": [
    "# Evaluation Function\n",
    "def evaluate(model, num_steps=1000):\n",
    "    \"\"\"\n",
    "    Evaluate a RL agent\n",
    "    :param model: (BaseRLModel object) the RL Agent\n",
    "    :param num_steps: (int) number of timesteps to evaluate it\n",
    "    :return: (float) Mean reward for the last 100 episodes\n",
    "    \"\"\"\n",
    "    episode_rewards = [0.0]\n",
    "    obs = env.reset()\n",
    "    for i in range(num_steps):\n",
    "        # _states are only useful when using LSTM policies\n",
    "        action, _states = model.predict(obs)\n",
    "\n",
    "        obs, reward, done, info = env.step(action)\n",
    "\n",
    "        # Stats\n",
    "        episode_rewards[-1] += reward\n",
    "        if done:\n",
    "            obs = env.reset()\n",
    "            episode_rewards.append(0.0)\n",
    "    # Compute mean reward for the last 100 episodes\n",
    "    mean_100ep_reward = round(np.mean(episode_rewards[-100:]), 1)\n",
    "    print(\"Mean reward:\", mean_100ep_reward, \"Num episodes:\", len(episode_rewards))\n",
    "\n",
    "    return mean_100ep_reward"
   ]
  },
  {
   "cell_type": "code",
   "execution_count": null,
   "metadata": {
    "colab": {},
    "colab_type": "code",
    "id": "H-qEyqYl86uI"
   },
   "outputs": [],
   "source": [
    "# Record video\n",
    "def record_video(env_id, model, video_length=500, prefix='', video_folder=video_folder):\n",
    "    \"\"\"\n",
    "    :param env_id: (str)\n",
    "    :param model: (RL model)\n",
    "    :param video_length: (int)\n",
    "    :param prefix: (str)\n",
    "    :param video_folder: (str)\n",
    "    \"\"\"\n",
    "    eval_env = DummyVecEnv([lambda: gym.make(env_id)])\n",
    "    # Start the video at step=0 and record 500 steps\n",
    "    eval_env = VecVideoRecorder(env, video_folder=video_folder,\n",
    "                              record_video_trigger=lambda step: step == 0, video_length=video_length,\n",
    "                              name_prefix=prefix)\n",
    "\n",
    "    obs = eval_env.reset()\n",
    "    for _ in range(video_length):\n",
    "        action, _ = model.predict(obs)\n",
    "        obs, _, _, _ = eval_env.step(action)\n",
    "\n",
    "    # Close the video recorder\n",
    "    eval_env.close()"
   ]
  },
  {
   "cell_type": "markdown",
   "metadata": {
    "colab_type": "text",
    "id": "ID-CT-JiWkEq"
   },
   "source": [
    "# Define & Configure out Reinforcment learning algoritm \n",
    "In this example we are using default PPO2 / Proximal Policy Optimization. Read more about how you define your PPO2 [parameters](https://stable-baselines.readthedocs.io/en/master/modules/ppo2.html#parameters) "
   ]
  },
  {
   "cell_type": "code",
   "execution_count": null,
   "metadata": {
    "colab": {},
    "colab_type": "code",
    "id": "m1ZWfptYv-zz"
   },
   "outputs": [],
   "source": [
    "from stable_baselines.common.callbacks import BaseCallback\n",
    "# from keras.callbacks import CSVLogger\n",
    "\n",
    "# csv_logger = CSVLogger(results_save_path+'log.csv', append=True, separator=';')"
   ]
  },
  {
   "cell_type": "code",
   "execution_count": null,
   "metadata": {
    "colab": {},
    "colab_type": "code",
    "id": "3dnN6FpZv-xS"
   },
   "outputs": [],
   "source": [
    "# os.makedirs(results_save_path, exist_ok=True)\n",
    "\n",
    "# Create the callback: check every 1000 steps\n",
    "callback = BaseCallback(verbose=2)"
   ]
  },
  {
   "cell_type": "code",
   "execution_count": null,
   "metadata": {
    "colab": {
     "base_uri": "https://localhost:8080/",
     "height": 649
    },
    "colab_type": "code",
    "id": "nQRSdpIa1e2o",
    "outputId": "927381f1-4ddd-482b-957e-0b7210228e54"
   },
   "outputs": [],
   "source": [
    "# Define the model\n",
    "model = PPO2(MlpPolicy, env, verbose=2, tensorboard_log=\"./ppo_tb_log\") # add & tweak default parameters, messure your output & improve link to parameters above (it will however work with default)"
   ]
  },
  {
   "cell_type": "markdown",
   "metadata": {
    "colab_type": "text",
    "id": "pmK85N-4XdK7"
   },
   "source": [
    "## Train model 50k steps & evaluate results\n",
    "Here we train, evaluate, save, record & display video"
   ]
  },
  {
   "cell_type": "code",
   "execution_count": null,
   "metadata": {
    "colab": {
     "base_uri": "https://localhost:8080/",
     "height": 34
    },
    "colab_type": "code",
    "id": "BIedd7Pz9sOs",
    "outputId": "5161244c-ec47-4eab-ca61-a6b646d272d8"
   },
   "outputs": [],
   "source": [
    "# Random Agent, before training\n",
    "mean_reward_before_train = evaluate(model, num_steps=10000)"
   ]
  },
  {
   "cell_type": "code",
   "execution_count": null,
   "metadata": {
    "colab": {
     "base_uri": "https://localhost:8080/",
     "height": 1000
    },
    "colab_type": "code",
    "id": "Td878hJsAY2U",
    "outputId": "ad1752c5-4437-42df-d8f4-6b86f1635204"
   },
   "outputs": [],
   "source": [
    "# Train model\n",
    "# model.learn(total_timesteps=5000, callback=callback)"
   ]
  },
  {
   "cell_type": "code",
   "execution_count": null,
   "metadata": {},
   "outputs": [],
   "source": [
    "%load_ext tensorboard"
   ]
  },
  {
   "cell_type": "code",
   "execution_count": null,
   "metadata": {},
   "outputs": [],
   "source": [
    "!tensorboard --logdir ./ppo_tb_log"
   ]
  },
  {
   "cell_type": "code",
   "execution_count": null,
   "metadata": {},
   "outputs": [],
   "source": [
    "# !pip install protobuf==3.8\n",
    "# This solved the tensorboard issue"
   ]
  },
  {
   "cell_type": "code",
   "execution_count": null,
   "metadata": {},
   "outputs": [],
   "source": [
    "# model.save('temp_ppo2')"
   ]
  },
  {
   "cell_type": "code",
   "execution_count": null,
   "metadata": {
    "colab": {},
    "colab_type": "code",
    "id": "7RlnIGnrAdaW"
   },
   "outputs": [],
   "source": [
    "# Save model\n",
    "# model.save(model_save_path + 'ppo_{}_weights_50000'.format(env_id))"
   ]
  },
  {
   "cell_type": "code",
   "execution_count": null,
   "metadata": {},
   "outputs": [],
   "source": [
    "# del model"
   ]
  },
  {
   "cell_type": "code",
   "execution_count": null,
   "metadata": {},
   "outputs": [],
   "source": [
    "# model = PPO2.load('temp_ppo2')"
   ]
  },
  {
   "cell_type": "code",
   "execution_count": null,
   "metadata": {},
   "outputs": [],
   "source": [
    "model = PPO2.load(model_save_path + 'ppo_{}_weights_1000000.pkl'.format(env_id))"
   ]
  },
  {
   "cell_type": "code",
   "execution_count": null,
   "metadata": {
    "colab": {
     "base_uri": "https://localhost:8080/",
     "height": 34
    },
    "colab_type": "code",
    "id": "vTZVraIGAe_c",
    "outputId": "2af6a520-e4aa-4c02-a045-b73a0a62d72a"
   },
   "outputs": [],
   "source": [
    "# Random Agent, after training\n",
    "mean_reward_after_train = evaluate(model, num_steps=10000)"
   ]
  },
  {
   "cell_type": "code",
   "execution_count": null,
   "metadata": {
    "colab": {},
    "colab_type": "code",
    "id": "C0BNK2qQ7Zi4"
   },
   "outputs": [],
   "source": [
    "from gym.wrappers.monitoring.video_recorder import VideoRecorder"
   ]
  },
  {
   "cell_type": "code",
   "execution_count": null,
   "metadata": {},
   "outputs": [],
   "source": [
    "def video_saver(filename, agent=model, env=env, num_epi=5, path_save = results_save_path+'Videos/'):\n",
    "    rec = VideoRecorder(env, path = path_save+filename, enabled=True)\n",
    "    rec.capture_frame()\n",
    "    for i_episode in range(num_epi):\n",
    "        rec.capture_frame()\n",
    "        observation = env.reset()\n",
    "        for t in range(1000):\n",
    "            env.render()\n",
    "            #print(observation)\n",
    "            #action = agent.actor.predict(observation.reshape(1,1,env.observation_space.shape[0]))\n",
    "            action = agent.predict(observation.reshape(1,env.observation_space.shape[0]))\n",
    "            #print(action)\n",
    "            observation, reward, done, info = env.step(action[0])\n",
    "            rec.capture_frame()\n",
    "            if done:\n",
    "                print(\"Episode finished after {} timesteps\".format(t+1))\n",
    "                print(\"Reward at the end of episode {} :\".format(i_episode+1), reward)\n",
    "                break\n",
    "    rec.close()\n",
    "    env.close()"
   ]
  },
  {
   "cell_type": "code",
   "execution_count": null,
   "metadata": {},
   "outputs": [],
   "source": [
    "video_saver('ppo2_{}_results_test.mp4'.format(env_id))"
   ]
  },
  {
   "cell_type": "code",
   "execution_count": null,
   "metadata": {},
   "outputs": [],
   "source": [
    "# Evaluation Function\n",
    "def test_evaluate(model, num_steps=1000):\n",
    "    \"\"\"\n",
    "    Evaluate a RL agent\n",
    "    :param model: (BaseRLModel object) the RL Agent\n",
    "    :param num_steps: (int) number of timesteps to evaluate it\n",
    "    :return: (float) Mean reward for the last 100 episodes\n",
    "    \"\"\"\n",
    "    episode_rewards = [0.0]\n",
    "    episode = [1]\n",
    "    obs = env.reset()\n",
    "    for i in range(num_steps):\n",
    "        # _states are only useful when using LSTM policies\n",
    "        action, _states = model.predict(obs)\n",
    "\n",
    "        obs, reward, done, info = env.step(action)\n",
    "\n",
    "        # Stats\n",
    "        episode_rewards[-1] += reward\n",
    "        if done:\n",
    "            obs = env.reset()\n",
    "            print(episode_rewards[-1])\n",
    "            episode_rewards.append(0.0)\n",
    "            episode.append(len(episode)+1)\n",
    "    # Compute mean reward for the last 100 episodes\n",
    "#     mean_100ep_reward = round(np.mean(episode_rewards[-100:]), 1)\n",
    "#     print(\"Mean reward:\", mean_100ep_reward, \"Num episodes:\", len(episode_rewards))\n",
    "    #print(episode_rewards, len(episode_rewards))\n",
    "\n",
    "    return {\"episode_rewards\": episode_rewards, \"episode_num\": episode}"
   ]
  },
  {
   "cell_type": "code",
   "execution_count": null,
   "metadata": {},
   "outputs": [],
   "source": [
    "test_result = test_evaluate(model, 999*100)"
   ]
  },
  {
   "cell_type": "code",
   "execution_count": 5,
   "metadata": {},
   "outputs": [],
   "source": [
    "import pandas as pd"
   ]
  },
  {
   "cell_type": "code",
   "execution_count": null,
   "metadata": {},
   "outputs": [],
   "source": [
    "for i in test_result['episode_rewards'][:-2]:\n",
    "    print(i[0])"
   ]
  },
  {
   "cell_type": "code",
   "execution_count": null,
   "metadata": {},
   "outputs": [],
   "source": [
    "test = dict()"
   ]
  },
  {
   "cell_type": "code",
   "execution_count": null,
   "metadata": {},
   "outputs": [],
   "source": [
    "test['episode_rewards'] = [i[0] for i in test_result['episode_rewards'][:-1]]"
   ]
  },
  {
   "cell_type": "code",
   "execution_count": null,
   "metadata": {},
   "outputs": [],
   "source": [
    "test['episode_num'] = [i for i in test_result['episode_num'][:-1]]"
   ]
  },
  {
   "cell_type": "code",
   "execution_count": null,
   "metadata": {},
   "outputs": [],
   "source": [
    "pd.DataFrame(test).to_csv(results_save_path+'ppo_{}_results_test.csv'.format(env_id))"
   ]
  },
  {
   "cell_type": "code",
   "execution_count": null,
   "metadata": {},
   "outputs": [],
   "source": [
    "env.close()"
   ]
  },
  {
   "cell_type": "code",
   "execution_count": null,
   "metadata": {
    "colab": {},
    "colab_type": "code",
    "id": "RcRLC8Wldwwf"
   },
   "outputs": [],
   "source": [
    "# # Record & show video\n",
    "record_video(env_id, model, video_length=999*5, prefix='ppo_{}_results_test'.format(env_id))"
   ]
  },
  {
   "cell_type": "markdown",
   "metadata": {
    "colab_type": "text",
    "id": "r5UoXTZPNdFE"
   },
   "source": [
    "## Train model another 500k steps & evaluate results\n"
   ]
  },
  {
   "cell_type": "code",
   "execution_count": 6,
   "metadata": {},
   "outputs": [],
   "source": [
    "import matplotlib.pyplot as plt"
   ]
  },
  {
   "cell_type": "code",
   "execution_count": 7,
   "metadata": {},
   "outputs": [],
   "source": [
    "plt.rcParams['figure.figsize'] = 15, 10"
   ]
  },
  {
   "cell_type": "code",
   "execution_count": 8,
   "metadata": {},
   "outputs": [],
   "source": [
    "model_results_df = pd.read_csv(results_save_path+'run-PPO2_1-tag-episode_reward.csv')\n",
    "model_results_df.reset_index(inplace=True)\n",
    "model_results_df.columns = ['episode', 'Wall time', 'Step', 'episode_reward']"
   ]
  },
  {
   "cell_type": "code",
   "execution_count": 9,
   "metadata": {},
   "outputs": [],
   "source": [
    "analyze_df = model_results_df.copy()\n",
    "analyze_df['episode'] +=1\n",
    "# analyze_df['avg_reward_per_episode-step'] = analyze_df['episode_reward']/analyze_df['nb_episode_steps']"
   ]
  },
  {
   "cell_type": "code",
   "execution_count": 11,
   "metadata": {},
   "outputs": [
    {
     "data": {
      "image/png": "[encoded data removed]",
      "text/plain": [
       "<Figure size 1080x720 with 1 Axes>"
      ]
     },
     "metadata": {
      "needs_background": "light"
     },
     "output_type": "display_data"
    }
   ],
   "source": [
    "analyze_df.set_index(['episode'])[['episode_reward']].plot()\n",
    "plt.title('PPO-MountainCarContinuous-Train')\n",
    "plt.savefig(results_save_path+'train_rewards.png', dpi=400, bbox_inches='tight')"
   ]
  },
  {
   "cell_type": "code",
   "execution_count": null,
   "metadata": {},
   "outputs": [],
   "source": []
  },
  {
   "cell_type": "code",
   "execution_count": 13,
   "metadata": {},
   "outputs": [],
   "source": [
    "test_df = pd.read_csv(results_save_path+'ppo_MountainCarContinuous-v0_results_test.csv')\n",
    "test_df['Unnamed: 0'] +=1\n",
    "test_df.columns = ['episode', 'episode_reward', 'nb_steps']"
   ]
  },
  {
   "cell_type": "code",
   "execution_count": 14,
   "metadata": {},
   "outputs": [
    {
     "data": {
      "text/plain": [
       "Index(['episode', 'episode_reward', 'nb_steps'], dtype='object')"
      ]
     },
     "execution_count": 14,
     "metadata": {},
     "output_type": "execute_result"
    }
   ],
   "source": [
    "test_df.columns"
   ]
  },
  {
   "cell_type": "code",
   "execution_count": 15,
   "metadata": {},
   "outputs": [
    {
     "data": {
      "image/png": "[encoded data removed]",
      "text/plain": [
       "<Figure size 1080x720 with 1 Axes>"
      ]
     },
     "metadata": {
      "needs_background": "light"
     },
     "output_type": "display_data"
    }
   ],
   "source": [
    "test_df.set_index(['episode'])[['episode_reward']].plot()\n",
    "plt.title('PPO-MountainCarContinuous-Test')\n",
    "plt.savefig(results_save_path+'test_rewards.png', dpi=400, bbox_inches='tight')"
   ]
  },
  {
   "cell_type": "code",
   "execution_count": null,
   "metadata": {},
   "outputs": [],
   "source": []
  }
 ],
 "metadata": {
  "accelerator": "TPU",
  "colab": {
   "collapsed_sections": [],
   "name": "PPO2_MountainCarContinuous_v0_stable_baselines.ipynb",
   "provenance": [],
   "toc_visible": true
  },
  "kernelspec": {
   "display_name": "Python 3",
   "language": "python",
   "name": "python3"
  },
  "language_info": {
   "codemirror_mode": {
    "name": "ipython",
    "version": 3
   },
   "file_extension": ".py",
   "mimetype": "text/x-python",
   "name": "python",
   "nbconvert_exporter": "python",
   "pygments_lexer": "ipython3",
   "version": "3.7.6"
  }
 },
 "nbformat": 4,
 "nbformat_minor": 4
}
